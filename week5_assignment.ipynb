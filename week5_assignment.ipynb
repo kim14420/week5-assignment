{
  "nbformat": 4,
  "nbformat_minor": 0,
  "metadata": {
    "colab": {
      "provenance": [],
      "collapsed_sections": []
    },
    "kernelspec": {
      "name": "python3",
      "display_name": "Python 3"
    },
    "language_info": {
      "name": "python"
    }
  },
  "cells": [
    {
      "cell_type": "code",
      "execution_count": 28,
      "metadata": {
        "id": "CD3z28zECsUl",
        "colab": {
          "base_uri": "https://localhost:8080/"
        },
        "outputId": "51c55c1e-0ba0-4bbe-8acb-d80a55429698"
      },
      "outputs": [
        {
          "output_type": "stream",
          "name": "stdout",
          "text": [
            "숫자 입력:11\n",
            "11은(는) 소수 입니다.\n"
          ]
        }
      ],
      "source": [
        "number = int(input(\"숫자 입력:\"))\n",
        "count = 0\n",
        "for i in range (1, number+1):\n",
        "  if (number % i == 0):\n",
        "    count += 1\n",
        "  \n",
        "if (count > 2):\n",
        "  print (f\"{number}은(는) 소수가 아닙니다.\")\n",
        "\n",
        "else:\n",
        "  print (f\"{number}은(는) 소수 입니다.\")\n"
      ]
    },
    {
      "cell_type": "code",
      "source": [
        "for i in range (1,6,1):\n",
        "  for j in range (1,i,1):\n",
        "    print (\" \",end=\"\")\n",
        "  for x in range (0, 6-i, 1):\n",
        "    print (x+i,end=\"\")\n",
        "  print()"
      ],
      "metadata": {
        "colab": {
          "base_uri": "https://localhost:8080/"
        },
        "id": "g_Xlx-HIFRIJ",
        "outputId": "6b9d044c-e03f-4efe-88b3-8b79d0a3a7e1"
      },
      "execution_count": 25,
      "outputs": [
        {
          "output_type": "stream",
          "name": "stdout",
          "text": [
            "12345\n",
            " 2345\n",
            "  345\n",
            "   45\n",
            "    5\n"
          ]
        }
      ]
    },
    {
      "cell_type": "code",
      "source": [],
      "metadata": {
        "id": "qnUjRUvqE4U2"
      },
      "execution_count": null,
      "outputs": []
    }
  ]
}